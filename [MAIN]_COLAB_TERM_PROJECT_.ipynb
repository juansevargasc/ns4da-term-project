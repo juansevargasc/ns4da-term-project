{
  "nbformat": 4,
  "nbformat_minor": 0,
  "metadata": {
    "colab": {
      "provenance": []
    },
    "kernelspec": {
      "name": "python3",
      "display_name": "Python 3"
    },
    "language_info": {
      "name": "python"
    },
    "widgets": {
      "application/vnd.jupyter.widget-state+json": {
        "1c206fc527b34225b9708f53f11e87a8": {
          "model_module": "@jupyter-widgets/controls",
          "model_name": "HBoxModel",
          "model_module_version": "1.5.0",
          "state": {
            "_dom_classes": [],
            "_model_module": "@jupyter-widgets/controls",
            "_model_module_version": "1.5.0",
            "_model_name": "HBoxModel",
            "_view_count": null,
            "_view_module": "@jupyter-widgets/controls",
            "_view_module_version": "1.5.0",
            "_view_name": "HBoxView",
            "box_style": "",
            "children": [
              "IPY_MODEL_38d738ecb0664e8b9c170faf702deabe",
              "IPY_MODEL_ae5be4371ed74a0cbe0ea318526434a0",
              "IPY_MODEL_035d8547b3794506be34f3992adcd617"
            ],
            "layout": "IPY_MODEL_227b27d84f864c05a8b3e42a3bab637c"
          }
        },
        "38d738ecb0664e8b9c170faf702deabe": {
          "model_module": "@jupyter-widgets/controls",
          "model_name": "HTMLModel",
          "model_module_version": "1.5.0",
          "state": {
            "_dom_classes": [],
            "_model_module": "@jupyter-widgets/controls",
            "_model_module_version": "1.5.0",
            "_model_name": "HTMLModel",
            "_view_count": null,
            "_view_module": "@jupyter-widgets/controls",
            "_view_module_version": "1.5.0",
            "_view_name": "HTMLView",
            "description": "",
            "description_tooltip": null,
            "layout": "IPY_MODEL_a220ee3244b742a68df6a200a34cc593",
            "placeholder": "​",
            "style": "IPY_MODEL_ae350ff968f2403f9ff8ec0ef6aad788",
            "value": "Computing transition probabilities: 100%"
          }
        },
        "ae5be4371ed74a0cbe0ea318526434a0": {
          "model_module": "@jupyter-widgets/controls",
          "model_name": "FloatProgressModel",
          "model_module_version": "1.5.0",
          "state": {
            "_dom_classes": [],
            "_model_module": "@jupyter-widgets/controls",
            "_model_module_version": "1.5.0",
            "_model_name": "FloatProgressModel",
            "_view_count": null,
            "_view_module": "@jupyter-widgets/controls",
            "_view_module_version": "1.5.0",
            "_view_name": "ProgressView",
            "bar_style": "success",
            "description": "",
            "description_tooltip": null,
            "layout": "IPY_MODEL_097532b1c07a47469151f6fc3390f302",
            "max": 3000,
            "min": 0,
            "orientation": "horizontal",
            "style": "IPY_MODEL_01bbf4a4d52e4496817b833ec1d34700",
            "value": 3000
          }
        },
        "035d8547b3794506be34f3992adcd617": {
          "model_module": "@jupyter-widgets/controls",
          "model_name": "HTMLModel",
          "model_module_version": "1.5.0",
          "state": {
            "_dom_classes": [],
            "_model_module": "@jupyter-widgets/controls",
            "_model_module_version": "1.5.0",
            "_model_name": "HTMLModel",
            "_view_count": null,
            "_view_module": "@jupyter-widgets/controls",
            "_view_module_version": "1.5.0",
            "_view_name": "HTMLView",
            "description": "",
            "description_tooltip": null,
            "layout": "IPY_MODEL_2bef7d773db94a6091d6d838fb53cd3b",
            "placeholder": "​",
            "style": "IPY_MODEL_396aa63aaeb14855a143e47a67c915d0",
            "value": " 3000/3000 [00:02&lt;00:00, 1112.02it/s]"
          }
        },
        "227b27d84f864c05a8b3e42a3bab637c": {
          "model_module": "@jupyter-widgets/base",
          "model_name": "LayoutModel",
          "model_module_version": "1.2.0",
          "state": {
            "_model_module": "@jupyter-widgets/base",
            "_model_module_version": "1.2.0",
            "_model_name": "LayoutModel",
            "_view_count": null,
            "_view_module": "@jupyter-widgets/base",
            "_view_module_version": "1.2.0",
            "_view_name": "LayoutView",
            "align_content": null,
            "align_items": null,
            "align_self": null,
            "border": null,
            "bottom": null,
            "display": null,
            "flex": null,
            "flex_flow": null,
            "grid_area": null,
            "grid_auto_columns": null,
            "grid_auto_flow": null,
            "grid_auto_rows": null,
            "grid_column": null,
            "grid_gap": null,
            "grid_row": null,
            "grid_template_areas": null,
            "grid_template_columns": null,
            "grid_template_rows": null,
            "height": null,
            "justify_content": null,
            "justify_items": null,
            "left": null,
            "margin": null,
            "max_height": null,
            "max_width": null,
            "min_height": null,
            "min_width": null,
            "object_fit": null,
            "object_position": null,
            "order": null,
            "overflow": null,
            "overflow_x": null,
            "overflow_y": null,
            "padding": null,
            "right": null,
            "top": null,
            "visibility": null,
            "width": null
          }
        },
        "a220ee3244b742a68df6a200a34cc593": {
          "model_module": "@jupyter-widgets/base",
          "model_name": "LayoutModel",
          "model_module_version": "1.2.0",
          "state": {
            "_model_module": "@jupyter-widgets/base",
            "_model_module_version": "1.2.0",
            "_model_name": "LayoutModel",
            "_view_count": null,
            "_view_module": "@jupyter-widgets/base",
            "_view_module_version": "1.2.0",
            "_view_name": "LayoutView",
            "align_content": null,
            "align_items": null,
            "align_self": null,
            "border": null,
            "bottom": null,
            "display": null,
            "flex": null,
            "flex_flow": null,
            "grid_area": null,
            "grid_auto_columns": null,
            "grid_auto_flow": null,
            "grid_auto_rows": null,
            "grid_column": null,
            "grid_gap": null,
            "grid_row": null,
            "grid_template_areas": null,
            "grid_template_columns": null,
            "grid_template_rows": null,
            "height": null,
            "justify_content": null,
            "justify_items": null,
            "left": null,
            "margin": null,
            "max_height": null,
            "max_width": null,
            "min_height": null,
            "min_width": null,
            "object_fit": null,
            "object_position": null,
            "order": null,
            "overflow": null,
            "overflow_x": null,
            "overflow_y": null,
            "padding": null,
            "right": null,
            "top": null,
            "visibility": null,
            "width": null
          }
        },
        "ae350ff968f2403f9ff8ec0ef6aad788": {
          "model_module": "@jupyter-widgets/controls",
          "model_name": "DescriptionStyleModel",
          "model_module_version": "1.5.0",
          "state": {
            "_model_module": "@jupyter-widgets/controls",
            "_model_module_version": "1.5.0",
            "_model_name": "DescriptionStyleModel",
            "_view_count": null,
            "_view_module": "@jupyter-widgets/base",
            "_view_module_version": "1.2.0",
            "_view_name": "StyleView",
            "description_width": ""
          }
        },
        "097532b1c07a47469151f6fc3390f302": {
          "model_module": "@jupyter-widgets/base",
          "model_name": "LayoutModel",
          "model_module_version": "1.2.0",
          "state": {
            "_model_module": "@jupyter-widgets/base",
            "_model_module_version": "1.2.0",
            "_model_name": "LayoutModel",
            "_view_count": null,
            "_view_module": "@jupyter-widgets/base",
            "_view_module_version": "1.2.0",
            "_view_name": "LayoutView",
            "align_content": null,
            "align_items": null,
            "align_self": null,
            "border": null,
            "bottom": null,
            "display": null,
            "flex": null,
            "flex_flow": null,
            "grid_area": null,
            "grid_auto_columns": null,
            "grid_auto_flow": null,
            "grid_auto_rows": null,
            "grid_column": null,
            "grid_gap": null,
            "grid_row": null,
            "grid_template_areas": null,
            "grid_template_columns": null,
            "grid_template_rows": null,
            "height": null,
            "justify_content": null,
            "justify_items": null,
            "left": null,
            "margin": null,
            "max_height": null,
            "max_width": null,
            "min_height": null,
            "min_width": null,
            "object_fit": null,
            "object_position": null,
            "order": null,
            "overflow": null,
            "overflow_x": null,
            "overflow_y": null,
            "padding": null,
            "right": null,
            "top": null,
            "visibility": null,
            "width": null
          }
        },
        "01bbf4a4d52e4496817b833ec1d34700": {
          "model_module": "@jupyter-widgets/controls",
          "model_name": "ProgressStyleModel",
          "model_module_version": "1.5.0",
          "state": {
            "_model_module": "@jupyter-widgets/controls",
            "_model_module_version": "1.5.0",
            "_model_name": "ProgressStyleModel",
            "_view_count": null,
            "_view_module": "@jupyter-widgets/base",
            "_view_module_version": "1.2.0",
            "_view_name": "StyleView",
            "bar_color": null,
            "description_width": ""
          }
        },
        "2bef7d773db94a6091d6d838fb53cd3b": {
          "model_module": "@jupyter-widgets/base",
          "model_name": "LayoutModel",
          "model_module_version": "1.2.0",
          "state": {
            "_model_module": "@jupyter-widgets/base",
            "_model_module_version": "1.2.0",
            "_model_name": "LayoutModel",
            "_view_count": null,
            "_view_module": "@jupyter-widgets/base",
            "_view_module_version": "1.2.0",
            "_view_name": "LayoutView",
            "align_content": null,
            "align_items": null,
            "align_self": null,
            "border": null,
            "bottom": null,
            "display": null,
            "flex": null,
            "flex_flow": null,
            "grid_area": null,
            "grid_auto_columns": null,
            "grid_auto_flow": null,
            "grid_auto_rows": null,
            "grid_column": null,
            "grid_gap": null,
            "grid_row": null,
            "grid_template_areas": null,
            "grid_template_columns": null,
            "grid_template_rows": null,
            "height": null,
            "justify_content": null,
            "justify_items": null,
            "left": null,
            "margin": null,
            "max_height": null,
            "max_width": null,
            "min_height": null,
            "min_width": null,
            "object_fit": null,
            "object_position": null,
            "order": null,
            "overflow": null,
            "overflow_x": null,
            "overflow_y": null,
            "padding": null,
            "right": null,
            "top": null,
            "visibility": null,
            "width": null
          }
        },
        "396aa63aaeb14855a143e47a67c915d0": {
          "model_module": "@jupyter-widgets/controls",
          "model_name": "DescriptionStyleModel",
          "model_module_version": "1.5.0",
          "state": {
            "_model_module": "@jupyter-widgets/controls",
            "_model_module_version": "1.5.0",
            "_model_name": "DescriptionStyleModel",
            "_view_count": null,
            "_view_module": "@jupyter-widgets/base",
            "_view_module_version": "1.2.0",
            "_view_name": "StyleView",
            "description_width": ""
          }
        }
      }
    }
  },
  "cells": [
    {
      "cell_type": "markdown",
      "source": [
        "# **Product Recommendation Using Network Algorithms on Amazon Co-Purchase Data**\n",
        "\n",
        "**NS4DA**\n",
        "\n",
        "\n",
        "> Universidad Nacional de Colombia / Escuela de Ingeniería Julio Garavito\n",
        "\n",
        "\n",
        "\n",
        "\n",
        "## Introduction\n",
        "In this project, we aim to explore and leverage the structural patterns within an Amazon co-purchase network to enhance product recommendations. By applying advanced network algorithms, we seek to understand how the purchase of one product can influence subsequent purchases. This understanding will be harnessed to develop a predictive model capable of recommending the most probable next product to Amazon customers.\n",
        "\n",
        "## Project Goal\n",
        "The goal of this project is to use network algorithms to capture the structure of an Amazon co-purchase network, where the purchase of product \\(i\\) often leads to the purchase of product \\(j\\). By leveraging these algorithms, we aim to train a model that can predict the most probable product to recommend, given a specific product on Amazon. This will enable us to understand and utilize the underlying patterns in the co-purchase network to improve product recommendations.\n",
        "\n",
        "## Project Scope\n",
        "The scope of this project includes working with our available Amazon dataset and utilizing the free tier of computation provided by Google Colab. Due to computational constraints, we will work with a sampled version of the full network. Additionally, our recommendation system will be designed to suggest only one product at a time, rather than generating a list of potential product recommendations.\n",
        "\n",
        "## Case Study\n",
        "To identify a key advance towards achieving our project goal, we can examine the study by Leskovec and Faloutsos titled \"Sampling from Large Graphs.\" This study explores how to efficiently sample from large networks while preserving their structural properties. Applying insights from this case study, we can adopt robust sampling techniques to better understand the structural patterns in our Amazon co-purchase network and enhance our predictive model’s accuracy.\n",
        "\n",
        "## Methodology\n",
        "1. **Forest Fire Sampling (FF)**: Forest Fire Sampling (FF) is a method designed to efficiently sample a representative subgraph from a large network. The process begins by randomly selecting a node in the network. From this starting node, the algorithm \"burns\" or includes a fraction of its neighbors, determined by a forward burning probability. These newly included nodes are then recursively burned, spreading the fire through the network until the desired sample size is achieved. This method aims to capture the local community structure of the network, making it particularly useful for preserving the densely connected regions and overall topology in the sampled subgraph.\n",
        "2. **Node2Vec Embeddings**: We will use the Node2Vec algorithm to generate embeddings for each node in the network. These embeddings will serve as feature representations for our machine learning model.\n",
        "3. **Machine Learning for Link Prediction**: Using the generated embeddings, we will train a machine learning model to predict potential future purchases, thereby recommending the most probable next product to customers.\n",
        "\n",
        "## References\n",
        "- Leskovec, J., & Faloutsos, C. (2006). Sampling from Large Graphs. *Proceedings of the 12th ACM SIGKDD International Conference on Knowledge Discovery and Data Mining (KDD '06)*, 631-636. DOI: 10.1145/1150402.1150479. Available at: [Sampling from Large Graphs](https://cs.stanford.edu/people/jure/pubs/sampling-kdd06.pdf).\n"
      ],
      "metadata": {
        "id": "Gf27PshOEARv"
      }
    },
    {
      "cell_type": "code",
      "execution_count": null,
      "metadata": {
        "colab": {
          "base_uri": "https://localhost:8080/"
        },
        "id": "oaoh_BwGD5u0",
        "outputId": "0768e33f-60be-4bdf-b309-5a2212e0b826"
      },
      "outputs": [
        {
          "output_type": "stream",
          "name": "stdout",
          "text": [
            "Collecting node2vec\n",
            "  Downloading node2vec-0.4.6-py3-none-any.whl (7.0 kB)\n",
            "Requirement already satisfied: gensim<5.0.0,>=4.1.2 in /usr/local/lib/python3.10/dist-packages (from node2vec) (4.3.2)\n",
            "Requirement already satisfied: joblib<2.0.0,>=1.1.0 in /usr/local/lib/python3.10/dist-packages (from node2vec) (1.4.2)\n",
            "Collecting networkx<3.0,>=2.5 (from node2vec)\n",
            "  Downloading networkx-2.8.8-py3-none-any.whl (2.0 MB)\n",
            "\u001b[2K     \u001b[90m━━━━━━━━━━━━━━━━━━━━━━━━━━━━━━━━━━━━━━━━\u001b[0m \u001b[32m2.0/2.0 MB\u001b[0m \u001b[31m9.4 MB/s\u001b[0m eta \u001b[36m0:00:00\u001b[0m\n",
            "\u001b[?25hRequirement already satisfied: numpy<2.0.0,>=1.19.5 in /usr/local/lib/python3.10/dist-packages (from node2vec) (1.25.2)\n",
            "Requirement already satisfied: tqdm<5.0.0,>=4.55.1 in /usr/local/lib/python3.10/dist-packages (from node2vec) (4.66.4)\n",
            "Requirement already satisfied: scipy>=1.7.0 in /usr/local/lib/python3.10/dist-packages (from gensim<5.0.0,>=4.1.2->node2vec) (1.11.4)\n",
            "Requirement already satisfied: smart-open>=1.8.1 in /usr/local/lib/python3.10/dist-packages (from gensim<5.0.0,>=4.1.2->node2vec) (6.4.0)\n",
            "Installing collected packages: networkx, node2vec\n",
            "  Attempting uninstall: networkx\n",
            "    Found existing installation: networkx 3.3\n",
            "    Uninstalling networkx-3.3:\n",
            "      Successfully uninstalled networkx-3.3\n",
            "\u001b[31mERROR: pip's dependency resolver does not currently take into account all the packages that are installed. This behaviour is the source of the following dependency conflicts.\n",
            "torch 2.2.1+cu121 requires nvidia-cublas-cu12==12.1.3.1; platform_system == \"Linux\" and platform_machine == \"x86_64\", which is not installed.\n",
            "torch 2.2.1+cu121 requires nvidia-cuda-cupti-cu12==12.1.105; platform_system == \"Linux\" and platform_machine == \"x86_64\", which is not installed.\n",
            "torch 2.2.1+cu121 requires nvidia-cuda-nvrtc-cu12==12.1.105; platform_system == \"Linux\" and platform_machine == \"x86_64\", which is not installed.\n",
            "torch 2.2.1+cu121 requires nvidia-cuda-runtime-cu12==12.1.105; platform_system == \"Linux\" and platform_machine == \"x86_64\", which is not installed.\n",
            "torch 2.2.1+cu121 requires nvidia-cudnn-cu12==8.9.2.26; platform_system == \"Linux\" and platform_machine == \"x86_64\", which is not installed.\n",
            "torch 2.2.1+cu121 requires nvidia-cufft-cu12==11.0.2.54; platform_system == \"Linux\" and platform_machine == \"x86_64\", which is not installed.\n",
            "torch 2.2.1+cu121 requires nvidia-curand-cu12==10.3.2.106; platform_system == \"Linux\" and platform_machine == \"x86_64\", which is not installed.\n",
            "torch 2.2.1+cu121 requires nvidia-cusolver-cu12==11.4.5.107; platform_system == \"Linux\" and platform_machine == \"x86_64\", which is not installed.\n",
            "torch 2.2.1+cu121 requires nvidia-cusparse-cu12==12.1.0.106; platform_system == \"Linux\" and platform_machine == \"x86_64\", which is not installed.\n",
            "torch 2.2.1+cu121 requires nvidia-nccl-cu12==2.19.3; platform_system == \"Linux\" and platform_machine == \"x86_64\", which is not installed.\n",
            "torch 2.2.1+cu121 requires nvidia-nvtx-cu12==12.1.105; platform_system == \"Linux\" and platform_machine == \"x86_64\", which is not installed.\u001b[0m\u001b[31m\n",
            "\u001b[0mSuccessfully installed networkx-2.8.8 node2vec-0.4.6\n"
          ]
        }
      ],
      "source": [
        "pip install node2vec"
      ]
    },
    {
      "cell_type": "code",
      "source": [
        "import networkx as nx\n",
        "import random\n",
        "import matplotlib.pyplot as plt\n",
        "import networkx as nx\n",
        "import numpy as np\n",
        "import pandas as pd"
      ],
      "metadata": {
        "id": "jpzzU4N7EUY2"
      },
      "execution_count": null,
      "outputs": []
    },
    {
      "cell_type": "code",
      "source": [
        "from google.colab import drive\n",
        "drive.mount('/content/drive')"
      ],
      "metadata": {
        "colab": {
          "base_uri": "https://localhost:8080/"
        },
        "id": "dqGQ2Jp8Ecgl",
        "outputId": "838941cd-6738-4425-9de3-b0e20987a52f"
      },
      "execution_count": null,
      "outputs": [
        {
          "output_type": "stream",
          "name": "stdout",
          "text": [
            "Mounted at /content/drive\n"
          ]
        }
      ]
    },
    {
      "cell_type": "markdown",
      "source": [
        "## 1. Read the dataset"
      ],
      "metadata": {
        "id": "HbEQ_v0hEh9B"
      }
    },
    {
      "cell_type": "code",
      "source": [
        "# Initialize an empty graph with networkx\n",
        "G = nx.Graph()\n",
        "\n",
        "# Open and read the dataset\n",
        "with open('/content/drive/MyDrive/2024-I/Network Science for Data Analytics/Network Science for Data Analytics/datasets/com-amazon.ungraph.txt', 'r') as file:\n",
        "    for idx, line in enumerate(file):\n",
        "        # Ignore lines starting with '#', this is how the dataset is build, it has some commnents\n",
        "        if not line.startswith('#'):\n",
        "            # Here, I assume each line represents an edge between two nodes separated by a space\n",
        "            # You might need to adjust the split method according to your dataset's structure\n",
        "            parts = line.strip().split()\n",
        "            # Check if the line has enough information to form an edge (at least two nodes)\n",
        "            if len(parts) >= 2:\n",
        "                # Add an edge to the graph\n",
        "                G.add_edge(parts[0], parts[1])\n"
      ],
      "metadata": {
        "id": "mSs6wIYiEkmt"
      },
      "execution_count": null,
      "outputs": []
    },
    {
      "cell_type": "markdown",
      "source": [
        "- Network properties"
      ],
      "metadata": {
        "id": "kvBZKGiXEuTe"
      }
    },
    {
      "cell_type": "code",
      "source": [
        "# Basic properties\n",
        "print(f\"Number of nodes: {G.number_of_nodes()}\")\n",
        "print(f\"Number of edges: {G.number_of_edges()}\")"
      ],
      "metadata": {
        "colab": {
          "base_uri": "https://localhost:8080/"
        },
        "id": "pZJYuLPoErVu",
        "outputId": "b6eb9ffa-41a8-4275-cf62-74bf443848fd"
      },
      "execution_count": null,
      "outputs": [
        {
          "output_type": "stream",
          "name": "stdout",
          "text": [
            "Number of nodes: 334863\n",
            "Number of edges: 925872\n"
          ]
        }
      ]
    },
    {
      "cell_type": "markdown",
      "source": [
        "## 2. Sampling\n",
        "\n",
        "Sampling is a crucial step in network analysis, especially when dealing with large-scale networks like the Amazon co-purchase network. Given the constraints of computational resources and time, it is often impractical to analyze the entire network directly.\n",
        "\n",
        "### Forest Fire Walk Sampling\n",
        "- Source and code implmentation from: [Graph_Sampling from github/Ashish7129\n",
        "](https://github.com/Ashish7129/Graph_Sampling)\n",
        "\n",
        "- Main theory and academic study: [Sampling from Large Graphs](https://cs.stanford.edu/people/jure/pubs/sampling-kdd06.pdf)"
      ],
      "metadata": {
        "id": "_duGSZh0EzWw"
      }
    },
    {
      "cell_type": "code",
      "source": [
        "def forest_fire_sampling(G, sample_size, p_forward=0.7, p_backward=0.3):\n",
        "    \"\"\"\n",
        "    Forest Fire Sampling algorithm to sample a subgraph from a large network.\n",
        "\n",
        "    Args:\n",
        "        G: The original graph (networkx.Graph).\n",
        "        sample_size: The desired number of nodes in the sampled subgraph.\n",
        "        p_forward: Probability to burn a neighbor in the forward direction.\n",
        "        p_backward: Probability to burn a neighbor in the backward direction.\n",
        "\n",
        "    Returns:\n",
        "        A sampled subgraph (networkx.Graph).\n",
        "    \"\"\"\n",
        "    # Initialize the sampled graph and a queue for nodes to explore\n",
        "    sampled_nodes = set()\n",
        "    start_node = random.choice(list(G.nodes))\n",
        "    sampled_nodes.add(start_node)\n",
        "    burn_queue = [start_node]\n",
        "\n",
        "    while len(sampled_nodes) < sample_size and burn_queue:\n",
        "        current_node = burn_queue.pop(0)\n",
        "        neighbors = list(G.neighbors(current_node))\n",
        "\n",
        "        # Forward burning\n",
        "        for neighbor in neighbors:\n",
        "            if neighbor not in sampled_nodes and random.random() < p_forward:\n",
        "                sampled_nodes.add(neighbor)\n",
        "                burn_queue.append(neighbor)\n",
        "                if len(sampled_nodes) >= sample_size:\n",
        "                    break\n",
        "\n",
        "        if len(sampled_nodes) >= sample_size:\n",
        "            break\n",
        "\n",
        "        # Backward burning\n",
        "        for neighbor in neighbors:\n",
        "            if neighbor not in sampled_nodes and random.random() < p_backward:\n",
        "                sampled_nodes.add(neighbor)\n",
        "                burn_queue.append(neighbor)\n",
        "                if len(sampled_nodes) >= sample_size:\n",
        "                    break\n",
        "\n",
        "    return G.subgraph(sampled_nodes).copy()\n"
      ],
      "metadata": {
        "id": "sa99f6kfEwD2"
      },
      "execution_count": null,
      "outputs": []
    },
    {
      "cell_type": "code",
      "source": [
        "sample_size = 3000\n",
        "sampled_amazon_graph = forest_fire_sampling(G, sample_size)\n",
        "\n",
        "# Basic properties\n",
        "print(f\"Number of nodes: {sampled_amazon_graph.number_of_nodes()}\")\n",
        "print(f\"Number of edges: {sampled_amazon_graph.number_of_edges()}\")"
      ],
      "metadata": {
        "colab": {
          "base_uri": "https://localhost:8080/"
        },
        "id": "KaOhFfj_FVJq",
        "outputId": "c27d5408-3150-4e42-d5ca-16c1051cee97"
      },
      "execution_count": null,
      "outputs": [
        {
          "output_type": "stream",
          "name": "stdout",
          "text": [
            "Number of nodes: 3000\n",
            "Number of edges: 6961\n"
          ]
        }
      ]
    },
    {
      "cell_type": "markdown",
      "source": [
        "## 3. Embeddings: Node2Vec"
      ],
      "metadata": {
        "id": "ROQ3QlkAFcNP"
      }
    },
    {
      "cell_type": "code",
      "source": [
        "from node2vec import Node2Vec\n",
        "\n",
        "def generate_node_embeddings(graph, dimensions=64, walk_length=25, num_walks=30, workers=4):\n",
        "    \"\"\"\n",
        "    Generates node embeddings using the Node2Vec algorithm.\n",
        "\n",
        "    Parameters:\n",
        "        graph (nx.Graph): The graph to embed.\n",
        "        dimensions (int): Number of dimensions of the embeddings.\n",
        "        walk_length (int): Length of each walk.\n",
        "        num_walks (int): Number of walks per node.\n",
        "        workers (int): Number of worker threads used.\n",
        "\n",
        "    Returns:\n",
        "        model: Trained Node2Vec model.\n",
        "    \"\"\"\n",
        "    # Precompute probabilities and generate walks\n",
        "    node2vec = Node2Vec(graph, dimensions=dimensions, walk_length=walk_length, num_walks=num_walks, workers=workers)\n",
        "\n",
        "    # Fit Node2Vec model\n",
        "    model = node2vec.fit(window=5, min_count=1, batch_words=4)\n",
        "    return model\n",
        "\n",
        "# Apply Node2Vec on the SAMPLED GRAPH!\n",
        "model = generate_node_embeddings(sampled_amazon_graph)\n",
        "\n",
        "# Get embeddings\n",
        "embeddings = model.wv\n",
        "\n",
        "# Example: Get the vector for a node, the first one showed\n",
        "node_id = list(sampled_amazon_graph.nodes())[0]\n",
        "vector = embeddings[node_id]\n",
        "print(\"Embedding for Node\", node_id, \":\", vector)\n"
      ],
      "metadata": {
        "colab": {
          "base_uri": "https://localhost:8080/",
          "height": 240,
          "referenced_widgets": [
            "1c206fc527b34225b9708f53f11e87a8",
            "38d738ecb0664e8b9c170faf702deabe",
            "ae5be4371ed74a0cbe0ea318526434a0",
            "035d8547b3794506be34f3992adcd617",
            "227b27d84f864c05a8b3e42a3bab637c",
            "a220ee3244b742a68df6a200a34cc593",
            "ae350ff968f2403f9ff8ec0ef6aad788",
            "097532b1c07a47469151f6fc3390f302",
            "01bbf4a4d52e4496817b833ec1d34700",
            "2bef7d773db94a6091d6d838fb53cd3b",
            "396aa63aaeb14855a143e47a67c915d0"
          ]
        },
        "id": "LiBuEvJVFY7v",
        "outputId": "f9784059-ad79-4166-e7fe-5d2f8db9a0d3"
      },
      "execution_count": null,
      "outputs": [
        {
          "output_type": "display_data",
          "data": {
            "text/plain": [
              "Computing transition probabilities:   0%|          | 0/3000 [00:00<?, ?it/s]"
            ],
            "application/vnd.jupyter.widget-view+json": {
              "version_major": 2,
              "version_minor": 0,
              "model_id": "1c206fc527b34225b9708f53f11e87a8"
            }
          },
          "metadata": {}
        },
        {
          "output_type": "stream",
          "name": "stdout",
          "text": [
            "Embedding for Node 299116 : [-0.24600014 -0.09960317  0.0863582   0.34226283  0.01139327 -1.2806088\n",
            "  0.22612214  0.06720747 -0.80246466 -0.12001871  0.2540141  -1.1345999\n",
            "  0.12798381 -0.6799227   0.10229575  0.2577353  -0.09483226 -0.21831803\n",
            " -0.03905317  0.1761341  -0.5331817   0.6677126   0.82355636 -1.503128\n",
            " -0.10429483  0.41855836 -0.2710911  -0.01034168 -0.40317202 -0.3191268\n",
            "  0.3770974  -0.09270572 -0.25809163  0.11589932 -0.14317791  0.04546664\n",
            "  0.0217179   0.36743882  0.80934507  0.2800691  -0.5225831   0.15859365\n",
            " -0.28318864 -0.35214025  0.59855425 -0.34566945  0.2174452  -0.4965446\n",
            " -0.01153562  1.5143899   0.28811592  0.6486147   0.65354973  0.910978\n",
            " -0.04466789  0.6858131   0.09501953 -0.15379722 -0.09343754  0.05762742\n",
            "  0.11527316  0.31447473  0.21844186  1.0624719 ]\n"
          ]
        }
      ]
    },
    {
      "cell_type": "markdown",
      "source": [
        "### Prework for predictions\n",
        "1. The provided code segment the dataset preparation. It begins by defining a function `generate_negative_samples` which generates non-existing edges from the graph `G`.\n",
        "2. Next, the code gathers positive samples, which are the existing edges in the sampled Amazon co-purchase network (`sampled_amazon_graph`). To ensure a balanced dataset, the number of negative samples is set equal to the number of positive samples.\n",
        "\n",
        "This dataframe, `df`, with columns 'source', 'target', and 'label', serves as the input for training a machine learning model to predict the likelihood of edge formation, thereby enabling effective link prediction.\n"
      ],
      "metadata": {
        "id": "5veeassBFjXp"
      }
    },
    {
      "cell_type": "code",
      "source": [
        "import random\n",
        "\n",
        "# Function to generate negative samples\n",
        "def generate_negative_samples(G, num_samples):\n",
        "    non_edges = list(nx.non_edges(G))\n",
        "    return random.sample(non_edges, num_samples)\n",
        "\n",
        "# Get positive samples (existing edges)\n",
        "positive_edges = list(sampled_amazon_graph.edges())\n",
        "\n",
        "# Get negative samples - non-existing ones\n",
        "num_negative_samples = len(positive_edges)\n",
        "negative_edges = generate_negative_samples(sampled_amazon_graph, num_negative_samples)\n",
        "\n",
        "\n",
        "\n",
        "# -------- CREATE DATAFRAME --------\n",
        "edge_data = positive_edges + negative_edges\n",
        "labels = [1] * len(positive_edges) + [0] * len(negative_edges) # This is a list. The first half is exising (1) edges. The remaining is non-existing (0)\n",
        "\n",
        "df = pd.DataFrame(edge_data, columns=['source', 'target'])\n",
        "df['label'] = labels\n"
      ],
      "metadata": {
        "id": "kIpIVkIcFfLE"
      },
      "execution_count": null,
      "outputs": []
    },
    {
      "cell_type": "markdown",
      "source": [
        "### Existing Edges list (Positive)"
      ],
      "metadata": {
        "id": "LciAefO3AClV"
      }
    },
    {
      "cell_type": "code",
      "source": [
        "positive_edges[:10]"
      ],
      "metadata": {
        "colab": {
          "base_uri": "https://localhost:8080/"
        },
        "id": "J2XWTwnSGMoj",
        "outputId": "58cb1f36-31b3-4509-88ff-29630cb69ab5"
      },
      "execution_count": null,
      "outputs": [
        {
          "output_type": "execute_result",
          "data": {
            "text/plain": [
              "[('299116', '69183'),\n",
              " ('299116', '69469'),\n",
              " ('299116', '205968'),\n",
              " ('299116', '234422'),\n",
              " ('299116', '247360'),\n",
              " ('299116', '287271'),\n",
              " ('299116', '314771'),\n",
              " ('299116', '458169'),\n",
              " ('299116', '477995'),\n",
              " ('299116', '487934')]"
            ]
          },
          "metadata": {},
          "execution_count": 45
        }
      ]
    },
    {
      "cell_type": "markdown",
      "source": [
        "### Non-Existing Edges list (Negative)"
      ],
      "metadata": {
        "id": "4NRKK59OAHq8"
      }
    },
    {
      "cell_type": "code",
      "source": [
        "negative_edges[:10]"
      ],
      "metadata": {
        "colab": {
          "base_uri": "https://localhost:8080/"
        },
        "id": "JXOyPPXlGNVb",
        "outputId": "e22136a0-c223-4bb1-e7b0-3e7d5e7829c5"
      },
      "execution_count": null,
      "outputs": [
        {
          "output_type": "execute_result",
          "data": {
            "text/plain": [
              "[('479673', '182646'),\n",
              " ('489347', '25949'),\n",
              " ('25402', '237064'),\n",
              " ('292823', '417703'),\n",
              " ('286127', '188030'),\n",
              " ('108409', '164441'),\n",
              " ('465711', '300483'),\n",
              " ('55171', '335971'),\n",
              " ('398987', '287117'),\n",
              " ('483327', '22356')]"
            ]
          },
          "metadata": {},
          "execution_count": 46
        }
      ]
    },
    {
      "cell_type": "markdown",
      "source": [
        "### This is the base fpr the data to be splitted for test / training."
      ],
      "metadata": {
        "id": "IljZXWWSAZ7_"
      }
    },
    {
      "cell_type": "code",
      "source": [
        "df"
      ],
      "metadata": {
        "colab": {
          "base_uri": "https://localhost:8080/",
          "height": 423
        },
        "id": "DWMBfFf4GRKC",
        "outputId": "02316c25-68f0-443c-f68c-d0610fd3aa5d"
      },
      "execution_count": null,
      "outputs": [
        {
          "output_type": "execute_result",
          "data": {
            "text/plain": [
              "       source  target  label\n",
              "0      299116   69183      1\n",
              "1      299116   69469      1\n",
              "2      299116  205968      1\n",
              "3      299116  234422      1\n",
              "4      299116  247360      1\n",
              "...       ...     ...    ...\n",
              "13917  420839  370449      0\n",
              "13918  482922   54432      0\n",
              "13919  143166  117322      0\n",
              "13920  166988  420997      0\n",
              "13921  386746  166810      0\n",
              "\n",
              "[13922 rows x 3 columns]"
            ],
            "text/html": [
              "\n",
              "  <div id=\"df-f98af530-e8a4-4a7b-b74b-40af1c12642c\" class=\"colab-df-container\">\n",
              "    <div>\n",
              "<style scoped>\n",
              "    .dataframe tbody tr th:only-of-type {\n",
              "        vertical-align: middle;\n",
              "    }\n",
              "\n",
              "    .dataframe tbody tr th {\n",
              "        vertical-align: top;\n",
              "    }\n",
              "\n",
              "    .dataframe thead th {\n",
              "        text-align: right;\n",
              "    }\n",
              "</style>\n",
              "<table border=\"1\" class=\"dataframe\">\n",
              "  <thead>\n",
              "    <tr style=\"text-align: right;\">\n",
              "      <th></th>\n",
              "      <th>source</th>\n",
              "      <th>target</th>\n",
              "      <th>label</th>\n",
              "    </tr>\n",
              "  </thead>\n",
              "  <tbody>\n",
              "    <tr>\n",
              "      <th>0</th>\n",
              "      <td>299116</td>\n",
              "      <td>69183</td>\n",
              "      <td>1</td>\n",
              "    </tr>\n",
              "    <tr>\n",
              "      <th>1</th>\n",
              "      <td>299116</td>\n",
              "      <td>69469</td>\n",
              "      <td>1</td>\n",
              "    </tr>\n",
              "    <tr>\n",
              "      <th>2</th>\n",
              "      <td>299116</td>\n",
              "      <td>205968</td>\n",
              "      <td>1</td>\n",
              "    </tr>\n",
              "    <tr>\n",
              "      <th>3</th>\n",
              "      <td>299116</td>\n",
              "      <td>234422</td>\n",
              "      <td>1</td>\n",
              "    </tr>\n",
              "    <tr>\n",
              "      <th>4</th>\n",
              "      <td>299116</td>\n",
              "      <td>247360</td>\n",
              "      <td>1</td>\n",
              "    </tr>\n",
              "    <tr>\n",
              "      <th>...</th>\n",
              "      <td>...</td>\n",
              "      <td>...</td>\n",
              "      <td>...</td>\n",
              "    </tr>\n",
              "    <tr>\n",
              "      <th>13917</th>\n",
              "      <td>420839</td>\n",
              "      <td>370449</td>\n",
              "      <td>0</td>\n",
              "    </tr>\n",
              "    <tr>\n",
              "      <th>13918</th>\n",
              "      <td>482922</td>\n",
              "      <td>54432</td>\n",
              "      <td>0</td>\n",
              "    </tr>\n",
              "    <tr>\n",
              "      <th>13919</th>\n",
              "      <td>143166</td>\n",
              "      <td>117322</td>\n",
              "      <td>0</td>\n",
              "    </tr>\n",
              "    <tr>\n",
              "      <th>13920</th>\n",
              "      <td>166988</td>\n",
              "      <td>420997</td>\n",
              "      <td>0</td>\n",
              "    </tr>\n",
              "    <tr>\n",
              "      <th>13921</th>\n",
              "      <td>386746</td>\n",
              "      <td>166810</td>\n",
              "      <td>0</td>\n",
              "    </tr>\n",
              "  </tbody>\n",
              "</table>\n",
              "<p>13922 rows × 3 columns</p>\n",
              "</div>\n",
              "    <div class=\"colab-df-buttons\">\n",
              "\n",
              "  <div class=\"colab-df-container\">\n",
              "    <button class=\"colab-df-convert\" onclick=\"convertToInteractive('df-f98af530-e8a4-4a7b-b74b-40af1c12642c')\"\n",
              "            title=\"Convert this dataframe to an interactive table.\"\n",
              "            style=\"display:none;\">\n",
              "\n",
              "  <svg xmlns=\"http://www.w3.org/2000/svg\" height=\"24px\" viewBox=\"0 -960 960 960\">\n",
              "    <path d=\"M120-120v-720h720v720H120Zm60-500h600v-160H180v160Zm220 220h160v-160H400v160Zm0 220h160v-160H400v160ZM180-400h160v-160H180v160Zm440 0h160v-160H620v160ZM180-180h160v-160H180v160Zm440 0h160v-160H620v160Z\"/>\n",
              "  </svg>\n",
              "    </button>\n",
              "\n",
              "  <style>\n",
              "    .colab-df-container {\n",
              "      display:flex;\n",
              "      gap: 12px;\n",
              "    }\n",
              "\n",
              "    .colab-df-convert {\n",
              "      background-color: #E8F0FE;\n",
              "      border: none;\n",
              "      border-radius: 50%;\n",
              "      cursor: pointer;\n",
              "      display: none;\n",
              "      fill: #1967D2;\n",
              "      height: 32px;\n",
              "      padding: 0 0 0 0;\n",
              "      width: 32px;\n",
              "    }\n",
              "\n",
              "    .colab-df-convert:hover {\n",
              "      background-color: #E2EBFA;\n",
              "      box-shadow: 0px 1px 2px rgba(60, 64, 67, 0.3), 0px 1px 3px 1px rgba(60, 64, 67, 0.15);\n",
              "      fill: #174EA6;\n",
              "    }\n",
              "\n",
              "    .colab-df-buttons div {\n",
              "      margin-bottom: 4px;\n",
              "    }\n",
              "\n",
              "    [theme=dark] .colab-df-convert {\n",
              "      background-color: #3B4455;\n",
              "      fill: #D2E3FC;\n",
              "    }\n",
              "\n",
              "    [theme=dark] .colab-df-convert:hover {\n",
              "      background-color: #434B5C;\n",
              "      box-shadow: 0px 1px 3px 1px rgba(0, 0, 0, 0.15);\n",
              "      filter: drop-shadow(0px 1px 2px rgba(0, 0, 0, 0.3));\n",
              "      fill: #FFFFFF;\n",
              "    }\n",
              "  </style>\n",
              "\n",
              "    <script>\n",
              "      const buttonEl =\n",
              "        document.querySelector('#df-f98af530-e8a4-4a7b-b74b-40af1c12642c button.colab-df-convert');\n",
              "      buttonEl.style.display =\n",
              "        google.colab.kernel.accessAllowed ? 'block' : 'none';\n",
              "\n",
              "      async function convertToInteractive(key) {\n",
              "        const element = document.querySelector('#df-f98af530-e8a4-4a7b-b74b-40af1c12642c');\n",
              "        const dataTable =\n",
              "          await google.colab.kernel.invokeFunction('convertToInteractive',\n",
              "                                                    [key], {});\n",
              "        if (!dataTable) return;\n",
              "\n",
              "        const docLinkHtml = 'Like what you see? Visit the ' +\n",
              "          '<a target=\"_blank\" href=https://colab.research.google.com/notebooks/data_table.ipynb>data table notebook</a>'\n",
              "          + ' to learn more about interactive tables.';\n",
              "        element.innerHTML = '';\n",
              "        dataTable['output_type'] = 'display_data';\n",
              "        await google.colab.output.renderOutput(dataTable, element);\n",
              "        const docLink = document.createElement('div');\n",
              "        docLink.innerHTML = docLinkHtml;\n",
              "        element.appendChild(docLink);\n",
              "      }\n",
              "    </script>\n",
              "  </div>\n",
              "\n",
              "\n",
              "<div id=\"df-f7aa908c-fe57-4db6-a08e-ee2df6535c74\">\n",
              "  <button class=\"colab-df-quickchart\" onclick=\"quickchart('df-f7aa908c-fe57-4db6-a08e-ee2df6535c74')\"\n",
              "            title=\"Suggest charts\"\n",
              "            style=\"display:none;\">\n",
              "\n",
              "<svg xmlns=\"http://www.w3.org/2000/svg\" height=\"24px\"viewBox=\"0 0 24 24\"\n",
              "     width=\"24px\">\n",
              "    <g>\n",
              "        <path d=\"M19 3H5c-1.1 0-2 .9-2 2v14c0 1.1.9 2 2 2h14c1.1 0 2-.9 2-2V5c0-1.1-.9-2-2-2zM9 17H7v-7h2v7zm4 0h-2V7h2v10zm4 0h-2v-4h2v4z\"/>\n",
              "    </g>\n",
              "</svg>\n",
              "  </button>\n",
              "\n",
              "<style>\n",
              "  .colab-df-quickchart {\n",
              "      --bg-color: #E8F0FE;\n",
              "      --fill-color: #1967D2;\n",
              "      --hover-bg-color: #E2EBFA;\n",
              "      --hover-fill-color: #174EA6;\n",
              "      --disabled-fill-color: #AAA;\n",
              "      --disabled-bg-color: #DDD;\n",
              "  }\n",
              "\n",
              "  [theme=dark] .colab-df-quickchart {\n",
              "      --bg-color: #3B4455;\n",
              "      --fill-color: #D2E3FC;\n",
              "      --hover-bg-color: #434B5C;\n",
              "      --hover-fill-color: #FFFFFF;\n",
              "      --disabled-bg-color: #3B4455;\n",
              "      --disabled-fill-color: #666;\n",
              "  }\n",
              "\n",
              "  .colab-df-quickchart {\n",
              "    background-color: var(--bg-color);\n",
              "    border: none;\n",
              "    border-radius: 50%;\n",
              "    cursor: pointer;\n",
              "    display: none;\n",
              "    fill: var(--fill-color);\n",
              "    height: 32px;\n",
              "    padding: 0;\n",
              "    width: 32px;\n",
              "  }\n",
              "\n",
              "  .colab-df-quickchart:hover {\n",
              "    background-color: var(--hover-bg-color);\n",
              "    box-shadow: 0 1px 2px rgba(60, 64, 67, 0.3), 0 1px 3px 1px rgba(60, 64, 67, 0.15);\n",
              "    fill: var(--button-hover-fill-color);\n",
              "  }\n",
              "\n",
              "  .colab-df-quickchart-complete:disabled,\n",
              "  .colab-df-quickchart-complete:disabled:hover {\n",
              "    background-color: var(--disabled-bg-color);\n",
              "    fill: var(--disabled-fill-color);\n",
              "    box-shadow: none;\n",
              "  }\n",
              "\n",
              "  .colab-df-spinner {\n",
              "    border: 2px solid var(--fill-color);\n",
              "    border-color: transparent;\n",
              "    border-bottom-color: var(--fill-color);\n",
              "    animation:\n",
              "      spin 1s steps(1) infinite;\n",
              "  }\n",
              "\n",
              "  @keyframes spin {\n",
              "    0% {\n",
              "      border-color: transparent;\n",
              "      border-bottom-color: var(--fill-color);\n",
              "      border-left-color: var(--fill-color);\n",
              "    }\n",
              "    20% {\n",
              "      border-color: transparent;\n",
              "      border-left-color: var(--fill-color);\n",
              "      border-top-color: var(--fill-color);\n",
              "    }\n",
              "    30% {\n",
              "      border-color: transparent;\n",
              "      border-left-color: var(--fill-color);\n",
              "      border-top-color: var(--fill-color);\n",
              "      border-right-color: var(--fill-color);\n",
              "    }\n",
              "    40% {\n",
              "      border-color: transparent;\n",
              "      border-right-color: var(--fill-color);\n",
              "      border-top-color: var(--fill-color);\n",
              "    }\n",
              "    60% {\n",
              "      border-color: transparent;\n",
              "      border-right-color: var(--fill-color);\n",
              "    }\n",
              "    80% {\n",
              "      border-color: transparent;\n",
              "      border-right-color: var(--fill-color);\n",
              "      border-bottom-color: var(--fill-color);\n",
              "    }\n",
              "    90% {\n",
              "      border-color: transparent;\n",
              "      border-bottom-color: var(--fill-color);\n",
              "    }\n",
              "  }\n",
              "</style>\n",
              "\n",
              "  <script>\n",
              "    async function quickchart(key) {\n",
              "      const quickchartButtonEl =\n",
              "        document.querySelector('#' + key + ' button');\n",
              "      quickchartButtonEl.disabled = true;  // To prevent multiple clicks.\n",
              "      quickchartButtonEl.classList.add('colab-df-spinner');\n",
              "      try {\n",
              "        const charts = await google.colab.kernel.invokeFunction(\n",
              "            'suggestCharts', [key], {});\n",
              "      } catch (error) {\n",
              "        console.error('Error during call to suggestCharts:', error);\n",
              "      }\n",
              "      quickchartButtonEl.classList.remove('colab-df-spinner');\n",
              "      quickchartButtonEl.classList.add('colab-df-quickchart-complete');\n",
              "    }\n",
              "    (() => {\n",
              "      let quickchartButtonEl =\n",
              "        document.querySelector('#df-f7aa908c-fe57-4db6-a08e-ee2df6535c74 button');\n",
              "      quickchartButtonEl.style.display =\n",
              "        google.colab.kernel.accessAllowed ? 'block' : 'none';\n",
              "    })();\n",
              "  </script>\n",
              "</div>\n",
              "    </div>\n",
              "  </div>\n"
            ],
            "application/vnd.google.colaboratory.intrinsic+json": {
              "type": "dataframe",
              "variable_name": "df",
              "summary": "{\n  \"name\": \"df\",\n  \"rows\": 13922,\n  \"fields\": [\n    {\n      \"column\": \"source\",\n      \"properties\": {\n        \"dtype\": \"category\",\n        \"num_unique_values\": 2636,\n        \"samples\": [\n          \"186325\",\n          \"79837\",\n          \"217289\"\n        ],\n        \"semantic_type\": \"\",\n        \"description\": \"\"\n      }\n    },\n    {\n      \"column\": \"target\",\n      \"properties\": {\n        \"dtype\": \"category\",\n        \"num_unique_values\": 2622,\n        \"samples\": [\n          \"40604\",\n          \"31051\",\n          \"426975\"\n        ],\n        \"semantic_type\": \"\",\n        \"description\": \"\"\n      }\n    },\n    {\n      \"column\": \"label\",\n      \"properties\": {\n        \"dtype\": \"number\",\n        \"std\": 0,\n        \"min\": 0,\n        \"max\": 1,\n        \"num_unique_values\": 2,\n        \"samples\": [\n          0,\n          1\n        ],\n        \"semantic_type\": \"\",\n        \"description\": \"\"\n      }\n    }\n  ]\n}"
            }
          },
          "metadata": {},
          "execution_count": 52
        }
      ]
    },
    {
      "cell_type": "markdown",
      "source": [
        "## 4. Machine Learning\n",
        "- The provided code is part of the process of preparing features for a machine learning model aimed at link prediction in a network. The core of this process is the `get_edge_features` function and the subsequent creation of the feature matrix.\n",
        "\n",
        "### get_edge_features Function\n",
        "The `get_edge_features` function is defined to extract features for a given edge using the embeddings of its two nodes. The function takes two arguments:\n",
        "1. `edge`: A tuple representing an edge in the graph, where `edge[0]` is the source node and `edge[1]` is the target node.\n",
        "2. `embeddings`: A dictionary or similar structure containing the node embeddings, where each key is a node ID (as a string), and the value is the embedding vector for that node.\n",
        "\n",
        "\n"
      ],
      "metadata": {
        "id": "bHnrmH-eG74i"
      }
    },
    {
      "cell_type": "markdown",
      "source": [
        "### Justification for Using Element-wise Multiplication in get_edge_features\n",
        "\n",
        "The function `get_edge_features` performs element-wise multiplication on the embeddings of two nodes to create edge features:\n",
        "\n",
        "#### Conceptual Justification\n",
        "\n",
        "1. **Interaction Features**: The element-wise multiplication captures the interaction between corresponding features of two nodes. This can reveal how specific characteristics of one node interact with the characteristics of another node, which is crucial for understanding the relationship (or the likelihood of an edge) between the two nodes.\n",
        "\n",
        "2.  **Dimensional Consistency**: Element-wise multiplication ensures that the resultant feature vector maintains the same dimensionality as the original node embeddings. This consistency simplifies further processing and integration into machine learning models.\n",
        "\n",
        "\n"
      ],
      "metadata": {
        "id": "AVQ0lVPLBz12"
      }
    },
    {
      "cell_type": "markdown",
      "source": [
        "- Element-wise multiplication.\n",
        "- $f_{uv}$ represents the relationship of the two nodes in our project.\n",
        "- If we thought like having a column X and a column Y for the model to be trained we would be having $f$ as X and label as Y.\n",
        "\n",
        "\n",
        "$$f_{uv} = e_u \\odot e_v$$\n"
      ],
      "metadata": {
        "id": "kS7Jzt58EKXb"
      }
    },
    {
      "cell_type": "code",
      "source": [
        "import numpy as np\n",
        "from sklearn.model_selection import train_test_split\n",
        "\n",
        "def get_edge_features(edge, embeddings):\n",
        "    return np.multiply(embeddings[str(edge[0])], embeddings[str(edge[1])]) # Element-wise multiplication.\n",
        "\n",
        "# Create feature matrix\n",
        "features = np.array([get_edge_features(edge, embeddings) for edge in edge_data])\n",
        "labels = np.array(labels)\n",
        "\n",
        "#  SPLIT\n",
        "X_train, X_test, y_train, y_test = train_test_split(features, labels, test_size=0.3, random_state=42)\n"
      ],
      "metadata": {
        "id": "mOwEZNcsGZM9"
      },
      "execution_count": null,
      "outputs": []
    },
    {
      "cell_type": "code",
      "source": [
        "features[0]"
      ],
      "metadata": {
        "colab": {
          "base_uri": "https://localhost:8080/"
        },
        "id": "m310YTDYuHdw",
        "outputId": "921ffc1b-8f13-406f-b9a4-1fece6a6d71b"
      },
      "execution_count": null,
      "outputs": [
        {
          "output_type": "execute_result",
          "data": {
            "text/plain": [
              "array([-3.1530682e-02,  5.9341080e-02, -6.1412379e-03,  1.3481084e-01,\n",
              "       -2.9552076e-03,  7.4502784e-01,  1.5310785e-01,  2.2899972e-03,\n",
              "        3.5274324e-01,  2.1821870e-02, -6.3484579e-02,  6.4070570e-01,\n",
              "       -5.7793453e-02,  4.6575150e-01,  2.1264499e-02,  1.2293581e-01,\n",
              "       -8.8417707e-03,  8.2028814e-02, -1.4753735e-02,  2.8075129e-02,\n",
              "        4.3613392e-01,  6.2725055e-01,  8.6469573e-01,  1.7571311e+00,\n",
              "        2.4671186e-02,  3.4561846e-02,  1.7653354e-01, -2.5960899e-05,\n",
              "        1.3484791e-01,  1.4142235e-01,  4.8413068e-02,  4.8515610e-02,\n",
              "        9.3749218e-02,  3.9036855e-02,  2.0789051e-02, -1.7389759e-02,\n",
              "        9.6308021e-03,  2.6712775e-01,  5.5388921e-01,  7.1055159e-02,\n",
              "       -4.1172072e-02,  1.2301631e-01,  4.6820931e-02,  1.5215576e-01,\n",
              "        6.5527338e-01,  1.8302466e-01,  1.2745659e-01,  3.0632758e-01,\n",
              "        9.6770853e-04,  1.8143904e+00,  1.5177359e-01,  1.2867761e-01,\n",
              "        1.6612625e-01,  5.0071937e-01,  1.6761599e-02,  4.5324084e-01,\n",
              "        1.9080970e-02,  2.1099590e-02, -4.7964486e-03,  3.3312857e-02,\n",
              "        5.0268089e-03,  1.8477296e-03,  2.2524470e-02,  8.9599735e-01],\n",
              "      dtype=float32)"
            ]
          },
          "metadata": {},
          "execution_count": 55
        }
      ]
    },
    {
      "cell_type": "code",
      "source": [],
      "metadata": {
        "id": "je10VCX80yiS"
      },
      "execution_count": null,
      "outputs": []
    },
    {
      "cell_type": "code",
      "source": [
        "labels"
      ],
      "metadata": {
        "colab": {
          "base_uri": "https://localhost:8080/"
        },
        "id": "KUFxr9SQFudo",
        "outputId": "fd30a664-b78c-4e64-ee97-7f5a2a543ae3"
      },
      "execution_count": null,
      "outputs": [
        {
          "output_type": "execute_result",
          "data": {
            "text/plain": [
              "array([1, 1, 1, ..., 0, 0, 0])"
            ]
          },
          "metadata": {},
          "execution_count": 58
        }
      ]
    },
    {
      "cell_type": "markdown",
      "source": [
        "## ML training!!\n",
        "\n",
        "- `n_estimators`: number of trees in the forest.\n",
        "- `n_estimators=100` means the random forest will consist of 100 different decision trees.\n",
        "More trees usually lead to better performance because they can capture more patterns from the data."
      ],
      "metadata": {
        "id": "gdvdrxKGJbfF"
      }
    },
    {
      "cell_type": "code",
      "source": [
        "from sklearn.ensemble import RandomForestClassifier\n",
        "from sklearn.metrics import accuracy_score, classification_report, roc_auc_score\n",
        "\n",
        "# Initialize the classifier\n",
        "clf = RandomForestClassifier(n_estimators=100, random_state=42)\n",
        "\n",
        "# Train the classifier\n",
        "clf.fit(X_train, y_train)\n",
        "\n",
        "# Predict on the test set\n",
        "y_pred = clf.predict(X_test)\n",
        "y_pred_proba = clf.predict_proba(X_test)[:, 1]\n"
      ],
      "metadata": {
        "id": "sOgZRjobJhCy"
      },
      "execution_count": null,
      "outputs": []
    },
    {
      "cell_type": "markdown",
      "source": [
        "### Model Evaluation Results\n",
        "\n",
        "The evaluation of our link prediction model yielded the following results:\n",
        "\n",
        "#### Accuracy\n",
        "The overall accuracy of the model is **0.9734**. This metric represents the proportion of correctly predicted edges (both existing and non-existing) out of the total predictions made.\n",
        "\n",
        "#### Classification Report\n",
        "The classification report provides a detailed breakdown of the model's performance across the two classes (0: non-existing edges, 1: existing edges):\n",
        "\n",
        "- **Precision**: The proportion of true positive predictions out of all positive predictions. For class 0, the precision is 0.98, and for class 1, it is 0.99.\n",
        "- **Recall**: The proportion of true positive predictions out of all actual positive instances. For class 0, the recall is 0.99, and for class 1, it is 0.98.\n",
        "- **F1-Score**: The harmonic mean of precision and recall, providing a single metric to balance both concerns. Both classes have an F1-score of 0.98.\n",
        "- **Support**: The number of actual occurrences of each class in the test set. There are 657 non-existing edges (class 0) and 671 existing edges (class 1).\n",
        "\n",
        "Summary of the classification report:\n"
      ],
      "metadata": {
        "id": "g5Sg-4wdKXGF"
      }
    },
    {
      "cell_type": "markdown",
      "source": [
        "#### ROC AUC Score\n",
        "The ROC AUC score is 0.9958, which indicates **the model's ability to distinguish between the two classes**.\n",
        "\n",
        "A score of 1.0 represents a perfect model, while a score of 0.5 represents a model with no discriminative power. An ROC AUC score of 0.9958 demonstrates excellent performance in distinguishing between existing and non-existing edges.\n",
        "\n"
      ],
      "metadata": {
        "id": "qIkVIIWyLLWT"
      }
    },
    {
      "cell_type": "code",
      "source": [
        "# Evaluate the performance\n",
        "accuracy = accuracy_score(y_test, y_pred)\n",
        "report = classification_report(y_test, y_pred)\n",
        "roc_auc = roc_auc_score(y_test, y_pred_proba)\n",
        "\n",
        "print(f'Accuracy: {accuracy}')\n",
        "print('Classification Report:')\n",
        "print(report)\n",
        "print(f'ROC AUC Score: {roc_auc}')\n"
      ],
      "metadata": {
        "colab": {
          "base_uri": "https://localhost:8080/"
        },
        "id": "F1CZ-UqSKEab",
        "outputId": "803a3ae9-b03e-450b-83e1-3fe2886f1b5f"
      },
      "execution_count": null,
      "outputs": [
        {
          "output_type": "stream",
          "name": "stdout",
          "text": [
            "Accuracy: 0.9751017476657888\n",
            "Classification Report:\n",
            "              precision    recall  f1-score   support\n",
            "\n",
            "           0       0.98      0.97      0.97      2064\n",
            "           1       0.97      0.98      0.98      2113\n",
            "\n",
            "    accuracy                           0.98      4177\n",
            "   macro avg       0.98      0.98      0.98      4177\n",
            "weighted avg       0.98      0.98      0.98      4177\n",
            "\n",
            "ROC AUC Score: 0.9957048833907484\n"
          ]
        }
      ]
    },
    {
      "cell_type": "markdown",
      "source": [
        "### Confussion matrix"
      ],
      "metadata": {
        "id": "w78eLPpgKHrY"
      }
    },
    {
      "cell_type": "code",
      "source": [
        "from sklearn.metrics import confusion_matrix\n",
        "import matplotlib.pyplot as plt\n",
        "import seaborn as sns\n",
        "\n",
        "# Compute confusion matrix\n",
        "cm = confusion_matrix(y_test, y_pred)\n",
        "\n",
        "# Plot confusion matrix\n",
        "plt.figure(figsize=(8, 6))\n",
        "sns.heatmap(cm, annot=True, fmt='d', cmap='Blues', xticklabels=['Predicted 0', 'Predicted 1'], yticklabels=['Actual 0', 'Actual 1'])\n",
        "plt.xlabel('Predicted')\n",
        "plt.ylabel('Actual')\n",
        "plt.title('Confusion Matrix')\n",
        "plt.show()"
      ],
      "metadata": {
        "colab": {
          "base_uri": "https://localhost:8080/",
          "height": 564
        },
        "id": "AYnTyF3EKIBJ",
        "outputId": "cc9736c9-43a5-42ef-bf9c-82091cc96e3a"
      },
      "execution_count": null,
      "outputs": [
        {
          "output_type": "display_data",
          "data": {
            "text/plain": [
              "<Figure size 800x600 with 2 Axes>"
            ],
            "image/png": "[encoded data removed]"
          },
          "metadata": {}
        }
      ]
    },
    {
      "cell_type": "code",
      "source": [],
      "metadata": {
        "id": "GosuyaRGKQ-6"
      },
      "execution_count": null,
      "outputs": []
    }
  ]
}